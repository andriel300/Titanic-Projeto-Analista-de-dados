{
  "nbformat": 4,
  "nbformat_minor": 0,
  "metadata": {
    "colab": {
      "provenance": [],
      "include_colab_link": true
    },
    "kernelspec": {
      "name": "python3",
      "display_name": "Python 3"
    },
    "language_info": {
      "name": "python"
    }
  },
  "cells": [
    {
      "cell_type": "markdown",
      "metadata": {
        "id": "view-in-github",
        "colab_type": "text"
      },
      "source": [
        "<a href=\"https://colab.research.google.com/github/andriel300/Titanic-Projeto-Analista-de-dados/blob/main/Titanic_Projeto_Analista_de_Dados_ipynb.ipynb\" target=\"_parent\"><img src=\"https://colab.research.google.com/assets/colab-badge.svg\" alt=\"Open In Colab\"/></a>"
      ]
    },
    {
      "cell_type": "code",
      "source": [
        "#@title Project\n",
        "import requests\n",
        "from IPython.display import Image, display\n",
        "from IPython.display import HTML\n",
        "\n",
        "# Direct image URL\n",
        "image_url = \"https://drive.google.com/uc?export=view&id=1euAGE1DHrzI5i6Q6qyMPpBtCZPYt8603\"\n",
        "\n",
        "# Download the image\n",
        "response = requests.get(image_url)\n",
        "with open('image.jpg', 'wb') as file:\n",
        "    file.write(response.content)\n",
        "\n",
        "import base64\n",
        "\n",
        "# Convert the image to a base64 string\n",
        "with open(\"image.jpg\", \"rb\") as image_file:\n",
        "    encoded_string = base64.b64encode(image_file.read()).decode()\n",
        "\n",
        "# Create the HTML code with the base64 image\n",
        "html_code = f\"\"\"\n",
        "<!DOCTYPE html>\n",
        "<html lang=\"en\">\n",
        "<head>\n",
        "    <meta charset=\"UTF-8\">\n",
        "    <meta name=\"viewport\" content=\"width=device-width, initial-scale=1.0\">\n",
        "    <title>Portfolio Header</title>\n",
        "    <!-- Include Font Awesome -->\n",
        "    <link rel=\"stylesheet\" href=\"https://cdnjs.cloudflare.com/ajax/libs/font-awesome/6.0.0-beta3/css/all.min.css\">\n",
        "    <style>\n",
        "        body {{\n",
        "            font-family: Arial, sans-serif;\n",
        "            margin: 0;\n",
        "            padding: 0;\n",
        "        }}\n",
        "        .header {{\n",
        "            display: flex;\n",
        "            align-items: flex-start; /* Align items to the top */\n",
        "            /*align-items: center;*/\n",
        "            padding: 20px;\n",
        "            background-color: #f4f4f4;\n",
        "            border-bottom: 2px solid #ccc;\n",
        "        }}\n",
        "        .header img {{\n",
        "            border-radius: 50%;\n",
        "            width: 100px;\n",
        "            height: 100px;\n",
        "            object-fit: cover;\n",
        "            margin-right: 20px;\n",
        "            box-shadow: 0 0 20px #86e3dd; /* Glowing effect */\n",
        "            vertical-align: top;\n",
        "        }}\n",
        "        .header .text-container {{\n",
        "            display: flex;\n",
        "            flex-direction: column;\n",
        "        }}\n",
        "        .header h1 {{\n",
        "            margin: 0;\n",
        "            font-size: 2em;\n",
        "        }}\n",
        "        .header p {{\n",
        "            margin: 5px 0 0 0;\n",
        "            font-size: 1em;\n",
        "            color: #666;\n",
        "        }}\n",
        "        .header .social-icons {{\n",
        "            margin-top: 10px;\n",
        "        }}\n",
        "        .header .social-icons a {{\n",
        "            margin-right: 10px;\n",
        "            color: #666;\n",
        "            text-decoration: none;\n",
        "            font-size: 1.5em;\n",
        "        }}\n",
        "        .header .social-icons a:hover {{\n",
        "            color: #000;\n",
        "        }}\n",
        "    </style>\n",
        "</head>\n",
        "<body>\n",
        "    <header class=\"header\">\n",
        "        <img src=\"data:image/jpeg;base64,{encoded_string}\" alt=\"Profile Picture\">\n",
        "        <div class=\"text-container\">\n",
        "\n",
        "\n",
        "            <h1>Projeto Analista de dados: Titanic</h1>\n",
        "            <p>Nivel: iniciante</p>\n",
        "            <p>#soft_skills #sql #python #tableau #power_bi</p>\n",
        "            &nbsp;\n",
        "            <p>Andriel José</p>\n",
        "\n",
        "            <div class=\"social-icons\">\n",
        "\n",
        "\n",
        "\n",
        "                <a href=\"https://www.linkedin.com/in/andrieljose/\" target=\"_blank\"><i class=\"fab fa-linkedin\"></i></a>\n",
        "                <a href=\"mailto:andrieldata@proton.me\"><i class=\"fas fa-envelope\"></i>\n",
        "\n",
        "\n",
        "\n",
        "            </div>\n",
        "        </div>\n",
        "    </header>\n",
        "</body>\n",
        "</html>\n",
        "\"\"\"\n",
        "\n",
        "# Display the HTML code in the Jupyter/Colab notebook\n",
        "display(HTML(html_code))"
      ],
      "metadata": {
        "colab": {
          "base_uri": "https://localhost:8080/",
          "height": 197
        },
        "id": "LjS6tVB7uVab",
        "outputId": "afacb3fa-d410-4d26-ab8e-ac4134e15475",
        "cellView": "form"
      },
      "execution_count": 20,
      "outputs": [
        {
          "output_type": "display_data",
          "data": {
            "text/plain": [
              "<IPython.core.display.HTML object>"
            ],
            "text/html": [
              "\n",
              "<!DOCTYPE html>\n",
              "<html lang=\"en\">\n",
              "<head>\n",
              "    <meta charset=\"UTF-8\">\n",
              "    <meta name=\"viewport\" content=\"width=device-width, initial-scale=1.0\">\n",
              "    <title>Portfolio Header</title>\n",
              "    <!-- Include Font Awesome -->\n",
              "    <link rel=\"stylesheet\" href=\"https://cdnjs.cloudflare.com/ajax/libs/font-awesome/6.0.0-beta3/css/all.min.css\">\n",
              "    <style>\n",
              "        body {\n",
              "            font-family: Arial, sans-serif;\n",
              "            margin: 0;\n",
              "            padding: 0;\n",
              "        }\n",
              "        .header {\n",
              "            display: flex;\n",
              "            align-items: flex-start; /* Align items to the top */\n",
              "            /*align-items: center;*/\n",
              "            padding: 20px;\n",
              "            background-color: #f4f4f4;\n",
              "            border-bottom: 2px solid #ccc;\n",
              "        }\n",
              "        .header img {\n",
              "            border-radius: 50%;\n",
              "            width: 100px;\n",
              "            height: 100px;\n",
              "            object-fit: cover;\n",
              "            margin-right: 20px;\n",
              "            box-shadow: 0 0 20px #86e3dd; /* Glowing effect */\n",
              "            vertical-align: top;\n",
              "        }\n",
              "        .header .text-container {\n",
              "            display: flex;\n",
              "            flex-direction: column;\n",
              "        }\n",
              "        .header h1 {\n",
              "            margin: 0;\n",
              "            font-size: 2em;\n",
              "        }\n",
              "        .header p {\n",
              "            margin: 5px 0 0 0;\n",
              "            font-size: 1em;\n",
              "            color: #666;\n",
              "        }\n",
              "        .header .social-icons {\n",
              "            margin-top: 10px;\n",
              "        }\n",
              "        .header .social-icons a {\n",
              "            margin-right: 10px;\n",
              "            color: #666;\n",
              "            text-decoration: none;\n",
              "            font-size: 1.5em;\n",
              "        }\n",
              "        .header .social-icons a:hover {\n",
              "            color: #000;\n",
              "        }\n",
              "    </style>\n",
              "</head>\n",
              "<body>\n",
              "    <header class=\"header\">\n",
              "        <img src=\"data:image/jpeg;base64,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\" alt=\"Profile Picture\">\n",
              "        <div class=\"text-container\">\n",
              "\n",
              "\n",
              "            <h1>Projeto Analista de dados: Titanic</h1>\n",
              "            <p>Nivel: iniciante</p>\n",
              "            <p>#soft_skills #sql #python #tableau #power_bi</p>\n",
              "            &nbsp;\n",
              "            <p>Andriel José</p>\n",
              "\n",
              "            <div class=\"social-icons\">\n",
              "\n",
              "\n",
              "\n",
              "                <a href=\"https://www.linkedin.com/in/andrieljose/\" target=\"_blank\"><i class=\"fab fa-linkedin\"></i></a>\n",
              "                <a href=\"mailto:andrieldata@proton.me\"><i class=\"fas fa-envelope\"></i>\n",
              "\n",
              "\n",
              "\n",
              "            </div>\n",
              "        </div>\n",
              "    </header>\n",
              "</body>\n",
              "</html>\n"
            ]
          },
          "metadata": {}
        }
      ]
    },
    {
      "cell_type": "markdown",
      "source": [
        "# Soft skills"
      ],
      "metadata": {
        "id": "xy4inZ8V4y7V"
      }
    },
    {
      "cell_type": "markdown",
      "source": [
        "## Fase 1. Reunião inicial com a administração\n",
        "\n",
        "Vamos fingir que você trabalha em uma empresa que constrói navios e que está investigando o desastre do Titanic para melhorar o projeto da embarcação. Seu objetivo é garantir as condições de evacuação necessárias e a igualdade de acesso às saídas de emergência e aos equipamentos para todos os passageiros, independentemente da classe e da idade, em um cenário de emergência. A equipe tem uma suspeita que gostaria de confirmar olhando para os seus **dados**. Eles acreditam que a taxa de sobrevivência dos passageiros da primeira classe do Titanic era maior. Aqui está o que o gerente lhe disse.\n",
        "\n",
        "**M**: Oi, Alex. Como você está hoje?\n",
        "\n",
        "**R**: Olá. Estou bem, e você?\n",
        "\n",
        "…um pouco de conversa.\n",
        "\n",
        "**M**: Tragédia do Titanic.\n",
        "\n",
        "**M**: Então, tente descobrir se houve algum erro ao construir as divisões de cabines do navio. Nós o ajudaremos a entender se a taxa de sobrevivência estava relacionada à classe dos passageiros. Você entendeu corretamente?\n",
        "\n",
        "**R**: Se entendi corretamente, seu objetivo é ver qual classe de passageiros teve mais sobreviventes? E você gostaria de ver se há alguma diferença entre as classes de passageiros em termos de taxa de sobrevivência?\n",
        "\n",
        "**M**: Isso mesmo. seria bom se mostrássemos um gráfico de barras com todas as classes no eixo X e o número de pessoas que sobreviveram no eixo Y ? Além disso, adicionaremos outro gráfico de barras, no qual mostraremos a taxa de sobrevivência em % para cada uma das classes de passageiros.\n",
        "\n",
        "**R**: Você gostaria que adicionássemos algum filtro aos dados? Por exemplo, filtrar os dados por idade poderia ser útil para você para perceber se a diferença entre as classes aumenta ou diminui com a idade. Isso faz sentido para você?\n",
        "\n",
        "**M**: Claro, e caso você tenha tempo para mais um, forneça um gráfico para diferentes categorias de idade para que eu possa ver convenientemente a diferença. Por exemplo, classificações de crianças, adultos e idosos. Gostaríamos de ver isso para ter uma visão mais ampla das taxas de sobrevivência, já que a idade é certamente um fator.\n",
        "\n",
        "**R**: Ok, como definiríamos essas categorias? Quais idades são crianças, quais são adultos e quais são idosos?\n",
        "\n",
        "**M**: Por favor, descubra isso para nos dar um retorno sobre isso na próxima reunião.\n",
        "\n",
        "**R**: Ok, vamos escrever isso para o nosso documento."
      ],
      "metadata": {
        "id": "0DE8ZmwMpaKY"
      }
    },
    {
      "cell_type": "markdown",
      "source": [
        "##Fase 2. Documentar uma tarefa durante uma reunião\n",
        "\n",
        "###Template de documentação de reunião\n",
        "\n",
        "**Objetivo**: Ver se a taxa de sobrevivencia tem a ver com a classe de passageiros, Avalie também a idade dos passageiros em cada classe para identificar as categorias etárias.\n",
        "\n",
        "**Visualizações**\n",
        "(barra, pizza, coluna etc.):\n",
        "\n",
        "<figure>\n",
        "  <left>\n",
        "    <img src='https://drive.google.com/uc?export=view&id=15fIbp6qRXgfL6vHfpkPkIG4zCv15qxiD' width='400'/>\n",
        "    <figcaption>Visuais mais frequentes</figcaption>\n",
        "  </left>\n",
        "</figure>\n",
        "\n",
        "- Gráfico de Barra 1\n",
        "    - Colunas numéricas e agregações (soma, porcentagem, etc.):\n",
        "    Sobreviveu - soma\n",
        "    - Coluna categórica: Pclass\n",
        "    - Filtros ativos: Idade\n",
        "\n",
        "- Gráfico X 2\n",
        "    - Colunas numéricas e agregações (soma, porcentagem, etc.):\n",
        "    Sobreviveu - porcentagem\n",
        "    - Coluna categórica: Pclass\n",
        "    - Filtros ativos: Idade\n",
        "\n",
        "- Gráfico X 3\n",
        "    - Colunas numéricas e agregações (soma, porcentagem, etc.):\n",
        "    Sobreviveu - porcentagem\n",
        "    - Coluna categórica 1: Pclass\n",
        "    - Coluna categórica 2: Idade (Crianças, Adultos, Idosos,)\n",
        "    - Filtros ativos:"
      ],
      "metadata": {
        "id": "NPfw13UovDjJ"
      }
    },
    {
      "cell_type": "markdown",
      "source": [
        "#Hard skills"
      ],
      "metadata": {
        "id": "Cax7wbBR4_RB"
      }
    },
    {
      "cell_type": "code",
      "source": [
        "#@title Fase 1. Pedir a um engenheiro de dados que prepare os dados para você\n",
        "\n",
        "import pandas as pd\n",
        "import gdown\n",
        "\n",
        "# File ID from the Google Drive link\n",
        "file_id = '15cFsnPnHc7KlzV0C9QQ5wG5v8PWqJ65C'\n",
        "\n",
        "download_url = f'https://drive.google.com/uc?id={file_id}'\n",
        "\n",
        "# Download the file\n",
        "output_file = 'downloaded_file.csv'\n",
        "gdown.download(download_url, output_file, quiet=False)\n",
        "\n",
        "# Load the CSV file into a pandas DataFrame\n",
        "df = pd.read_csv(output_file)\n",
        "\n",
        "# Assuming ipython-sql is installed\n",
        "%load_ext sql\n",
        "\n",
        "# Use a file-based SQLite database\n",
        "database_filename = 'my_database.db'\n",
        "df.to_sql('titanic_data', f'sqlite:///{database_filename}', if_exists='replace', index=False)\n",
        "\n",
        "# Now connect ipython-sql to the same file-based database\n",
        "%sql sqlite:///my_database.db"
      ],
      "metadata": {
        "id": "eFs78mYWliME",
        "cellView": "form",
        "colab": {
          "base_uri": "https://localhost:8080/"
        },
        "outputId": "08227ff9-60bd-427d-8622-853f92a92849"
      },
      "execution_count": null,
      "outputs": [
        {
          "output_type": "stream",
          "name": "stderr",
          "text": [
            "Downloading...\n",
            "From: https://drive.google.com/uc?id=15cFsnPnHc7KlzV0C9QQ5wG5v8PWqJ65C\n",
            "To: /content/downloaded_file.csv\n",
            "100%|██████████| 61.2k/61.2k [00:00<00:00, 33.8MB/s]\n"
          ]
        }
      ]
    },
    {
      "cell_type": "code",
      "source": [
        "#@title Fase 2. SQL — Consulte os dados\n",
        "# Consultar os dados para ver se funcionam\n",
        "# %sql SELECT * FROM titanic_data LIMIT 10;\n",
        "projeto_dados = %sql SELECT Survived, Pclass, Age FROM titanic_data"
      ],
      "metadata": {
        "id": "3-CzEfzM5LcX",
        "collapsed": true,
        "colab": {
          "base_uri": "https://localhost:8080/"
        },
        "outputId": "b778732e-a620-4c2d-9cc4-4f1927b04acc"
      },
      "execution_count": null,
      "outputs": [
        {
          "output_type": "stream",
          "name": "stdout",
          "text": [
            " * sqlite:///my_database.db\n",
            "Done.\n"
          ]
        }
      ]
    },
    {
      "cell_type": "markdown",
      "source": [
        "Descrição dos Dados\n",
        "\n",
        "<table>\n",
        "<tbody>\n",
        "<tr><th><b>Variable</b></th><th><b>Definition</b></th><th><b>Key</b></th></tr>\n",
        "<tr>\n",
        "<td>survival</td>\n",
        "<td>Survival</td>\n",
        "<td>0 = No, 1 = Yes</td>\n",
        "</tr>\n",
        "<tr>\n",
        "<td>pclass</td>\n",
        "<td>Ticket class</td>\n",
        "<td>1 = 1st, 2 = 2nd, 3 = 3rd</td>\n",
        "</tr>\n",
        "<tr>\n",
        "<td>sex</td>\n",
        "<td>Sex</td>\n",
        "<td></td>\n",
        "</tr>\n",
        "<tr>\n",
        "<td>Age</td>\n",
        "<td>Age in years</td>\n",
        "<td></td>\n",
        "</tr>\n",
        "<tr>\n",
        "<td>sibsp</td>\n",
        "<td># of siblings / spouses aboard the Titanic</td>\n",
        "<td></td>\n",
        "</tr>\n",
        "<tr>\n",
        "<td>parch</td>\n",
        "<td># of parents / children aboard the Titanic</td>\n",
        "<td></td>\n",
        "</tr>\n",
        "<tr>\n",
        "<td>ticket</td>\n",
        "<td>Ticket number</td>\n",
        "<td></td>\n",
        "</tr>\n",
        "<tr>\n",
        "<td>fare</td>\n",
        "<td>Passenger fare</td>\n",
        "<td></td>\n",
        "</tr>\n",
        "<tr>\n",
        "<td>cabin</td>\n",
        "<td>Cabin number</td>\n",
        "<td></td>\n",
        "</tr>\n",
        "<tr>\n",
        "<td>embarked</td>\n",
        "<td>Port of Embarkation</td>\n",
        "<td>C = Cherbourg, Q = Queenstown, S = Southampton</td>\n",
        "</tr>\n",
        "</tbody>\n",
        "</table>"
      ],
      "metadata": {
        "id": "XLH1nNJZkTYY"
      }
    },
    {
      "cell_type": "code",
      "source": [
        "#@title Fase 3. Python\n",
        "# Obter os dados para o ambiente Python\n",
        "import pandas as pd\n",
        "\n",
        "# Obter as primeiras 10 linhas do data frame\n",
        "df = pd.DataFrame(projeto_dados)\n",
        "print(df.head(10))\n",
        "\n",
        "# Obter informações básicas do data frame\n",
        "print(\"\\nInformações básicas:\")\n",
        "print(df.info())\n",
        "\n",
        "# Obter estatísticas descritivas do data frame\n",
        "print(\"\\nEstatísticas descritivas:\")\n",
        "print(df.describe())\n",
        "\n",
        "# Obter contagem de valores únicos em cada coluna\n",
        "print(\"\\nContagem de valores únicos em cada coluna:\")\n",
        "print(df.nunique())\n",
        "\n",
        "# Obter contagem de valores nulos em cada coluna\n",
        "print(\"\\nContagem de valores nulos em cada coluna:\")\n",
        "print(df.isnull().sum())"
      ],
      "metadata": {
        "id": "YYxg_USbk-Sl",
        "colab": {
          "base_uri": "https://localhost:8080/"
        },
        "outputId": "7dda2107-9ef6-4304-ca0c-7a8c3eb4c289"
      },
      "execution_count": null,
      "outputs": [
        {
          "output_type": "stream",
          "name": "stdout",
          "text": [
            "   Survived  Pclass   Age\n",
            "0         0       3  22.0\n",
            "1         1       1  38.0\n",
            "2         1       3  26.0\n",
            "3         1       1  35.0\n",
            "4         0       3  35.0\n",
            "5         0       3   NaN\n",
            "6         0       1  54.0\n",
            "7         0       3   2.0\n",
            "8         1       3  27.0\n",
            "9         1       2  14.0\n",
            "\n",
            "Informações básicas:\n",
            "<class 'pandas.core.frame.DataFrame'>\n",
            "RangeIndex: 891 entries, 0 to 890\n",
            "Data columns (total 3 columns):\n",
            " #   Column    Non-Null Count  Dtype  \n",
            "---  ------    --------------  -----  \n",
            " 0   Survived  891 non-null    int64  \n",
            " 1   Pclass    891 non-null    int64  \n",
            " 2   Age       714 non-null    float64\n",
            "dtypes: float64(1), int64(2)\n",
            "memory usage: 21.0 KB\n",
            "None\n",
            "\n",
            "Estatísticas descritivas:\n",
            "         Survived      Pclass         Age\n",
            "count  891.000000  891.000000  714.000000\n",
            "mean     0.383838    2.308642   29.699118\n",
            "std      0.486592    0.836071   14.526497\n",
            "min      0.000000    1.000000    0.420000\n",
            "25%      0.000000    2.000000   20.125000\n",
            "50%      0.000000    3.000000   28.000000\n",
            "75%      1.000000    3.000000   38.000000\n",
            "max      1.000000    3.000000   80.000000\n",
            "\n",
            "Contagem de valores únicos em cada coluna:\n",
            "Survived     2\n",
            "Pclass       3\n",
            "Age         88\n",
            "dtype: int64\n",
            "\n",
            "Contagem de valores nulos em cada coluna:\n",
            "Survived      0\n",
            "Pclass        0\n",
            "Age         177\n",
            "dtype: int64\n"
          ]
        }
      ]
    },
    {
      "cell_type": "markdown",
      "source": [
        "## Data Cleaning"
      ],
      "metadata": {
        "id": "vTrPNAeDHpP1"
      }
    },
    {
      "cell_type": "code",
      "source": [
        "# Calcular a mediana da coluna \"Age\"\n",
        "age_mean = df['Age'].mean()\n",
        "\n",
        "# Preencher os valores nulos com a mediana\n",
        "df['Age'].fillna(age_mean, inplace=True)\n",
        "\n",
        "# Calcular a mediana da coluna \"Age\"\n",
        "age_median = df['Age'].median()\n",
        "\n",
        "# Preencher os valores nulos com a mediana\n",
        "df['Age'].fillna(age_median, inplace=True)\n",
        "\n",
        "# Verificar se existe valores nulos na coluna Age\n",
        "print(\"\\n Numeros de valores nulos na coluna Age:\")\n",
        "print(df['Age'].isnull().sum())"
      ],
      "metadata": {
        "colab": {
          "base_uri": "https://localhost:8080/"
        },
        "id": "dc5VwWOuEma9",
        "outputId": "e44baffa-234c-4591-d6eb-66cad2d667ef"
      },
      "execution_count": null,
      "outputs": [
        {
          "output_type": "stream",
          "name": "stdout",
          "text": [
            "\n",
            " Numeros de valores nulos na coluna Age:\n",
            "0\n"
          ]
        }
      ]
    },
    {
      "cell_type": "code",
      "source": [
        "# Redonda as tabelas da coluna \"Age\"\n",
        "df['Age'] = df['Age'].round()\n",
        "\n",
        "# # Obter estatísticas descritivas para obversar se está limpo (Data Cleaning)\n",
        "# print(\"\\nEstatísticas descritivas:\")\n",
        "# print(df.describe())\n",
        "\n",
        "# Função para categorizar idade\n",
        "def categorize_age(age):\n",
        "    if age < 0:\n",
        "        return 'Invalid age'\n",
        "    elif age <= 1:\n",
        "        return 'Recém-nascido'\n",
        "    elif age <= 2:\n",
        "        return 'Bebê'\n",
        "    elif age <= 12:\n",
        "        return 'Criança'\n",
        "    elif age <= 18:\n",
        "        return 'Adolescente'\n",
        "    elif age <= 60:\n",
        "        return 'Adulto'\n",
        "    else:\n",
        "        return 'Idoso'\n",
        "\n",
        "# Aplicar a função para criar a nova coluna 'Age_Category'\n",
        "df['Age_Category'] = df['Age'].apply(categorize_age)\n",
        "\n",
        "# Aplicar o display da categoria atualizada\n",
        "print(df.head(10))\n",
        "\n",
        "# Obter contagem de valores unicos na coluna Age_Category\n",
        "print(\"\\nContagem de valores únicos na coluna Age_Category:\")\n",
        "print(df['Age_Category'].value_counts())"
      ],
      "metadata": {
        "colab": {
          "base_uri": "https://localhost:8080/"
        },
        "id": "raOT1Oj5G1yG",
        "outputId": "e4470d93-e881-4785-d1c0-e5fc4af63486"
      },
      "execution_count": null,
      "outputs": [
        {
          "output_type": "stream",
          "name": "stdout",
          "text": [
            "   Survived  Pclass   Age Age_Category\n",
            "0         0       3  22.0       Adulto\n",
            "1         1       1  38.0       Adulto\n",
            "2         1       3  26.0       Adulto\n",
            "3         1       1  35.0       Adulto\n",
            "4         0       3  35.0       Adulto\n",
            "5         0       3  30.0       Adulto\n",
            "6         0       1  54.0       Adulto\n",
            "7         0       3   2.0         Bebê\n",
            "8         1       3  27.0       Adulto\n",
            "9         1       2  14.0  Adolescente\n",
            "\n",
            "Contagem de valores únicos na coluna Age_Category:\n",
            "Age_Category\n",
            "Adulto           730\n",
            "Adolescente       70\n",
            "Criança           45\n",
            "Idoso             22\n",
            "Recém-nascido     14\n",
            "Bebê              10\n",
            "Name: count, dtype: int64\n"
          ]
        }
      ]
    },
    {
      "cell_type": "markdown",
      "source": [
        "## Data Cleaning Realizado com sucesso! agora vamos extrair os dados coletados em xlsl para criar dashboard nas plataforma!"
      ],
      "metadata": {
        "id": "WuOiJ7wGSgzF"
      }
    },
    {
      "cell_type": "code",
      "source": [
        "# Exportar o dataframe para o Excel\n",
        "df.to_excel('titanic_data.xlsx', index=False)\n",
        "\n",
        "print(\"\\nDados exportados para 'titanic_data.xlsx'\")"
      ],
      "metadata": {
        "colab": {
          "base_uri": "https://localhost:8080/"
        },
        "id": "B3oFbtzhS0Ec",
        "outputId": "09499358-f665-443b-d83e-a23c080f8f78"
      },
      "execution_count": null,
      "outputs": [
        {
          "output_type": "stream",
          "name": "stdout",
          "text": [
            "\n",
            "Dados exportados para 'titanic_data.xlsx'\n"
          ]
        }
      ]
    },
    {
      "cell_type": "code",
      "source": [
        "#@title Tableau Dashboard\n",
        "from IPython.display import HTML\n",
        "\n",
        "HTML(\"\"\"\n",
        "<div class='tableauPlaceholder' id='viz1722539926954' style='position: relative'><noscript><a href='#'><img alt='Dashboard ' src='https:&#47;&#47;public.tableau.com&#47;static&#47;images&#47;Pr&#47;ProjetoTitanicTableauDashboard&#47;Dashboard&#47;1_rss.png' style='border: none' /></a></noscript><object class='tableauViz'  style='display:none;'><param name='host_url' value='https%3A%2F%2Fpublic.tableau.com%2F' /> <param name='embed_code_version' value='3' /> <param name='site_root' value='' /><param name='name' value='ProjetoTitanicTableauDashboard&#47;Dashboard' /><param name='tabs' value='no' /><param name='toolbar' value='yes' /><param name='static_image' value='https:&#47;&#47;public.tableau.com&#47;static&#47;images&#47;Pr&#47;ProjetoTitanicTableauDashboard&#47;Dashboard&#47;1.png' /> <param name='animate_transition' value='yes' /><param name='display_static_image' value='yes' /><param name='display_spinner' value='yes' /><param name='display_overlay' value='yes' /><param name='display_count' value='yes' /><param name='language' value='pt-BR' /></object></div>                <script type='text/javascript'>                    var divElement = document.getElementById('viz1722539926954');                    var vizElement = divElement.getElementsByTagName('object')[0];                    if ( divElement.offsetWidth > 800 ) { vizElement.style.width='1024px';vizElement.style.height='795px';} else if ( divElement.offsetWidth > 500 ) { vizElement.style.width='1024px';vizElement.style.height='795px';} else { vizElement.style.width='100%';vizElement.style.height='1477px';}                     var scriptElement = document.createElement('script');                    scriptElement.src = 'https://public.tableau.com/javascripts/api/viz_v1.js';                    vizElement.parentNode.insertBefore(scriptElement, vizElement);                </script>\n",
        "\"\"\")\n"
      ],
      "metadata": {
        "id": "ENH3nc7y6efx",
        "colab": {
          "base_uri": "https://localhost:8080/",
          "height": 812
        },
        "outputId": "7acba51f-4fb2-4bdc-f3c9-a01dfbf6144f"
      },
      "execution_count": null,
      "outputs": [
        {
          "output_type": "execute_result",
          "data": {
            "text/plain": [
              "<IPython.core.display.HTML object>"
            ],
            "text/html": [
              "\n",
              "<div class='tableauPlaceholder' id='viz1722539926954' style='position: relative'><noscript><a href='#'><img alt='Dashboard ' src='https:&#47;&#47;public.tableau.com&#47;static&#47;images&#47;Pr&#47;ProjetoTitanicTableauDashboard&#47;Dashboard&#47;1_rss.png' style='border: none' /></a></noscript><object class='tableauViz'  style='display:none;'><param name='host_url' value='https%3A%2F%2Fpublic.tableau.com%2F' /> <param name='embed_code_version' value='3' /> <param name='site_root' value='' /><param name='name' value='ProjetoTitanicTableauDashboard&#47;Dashboard' /><param name='tabs' value='no' /><param name='toolbar' value='yes' /><param name='static_image' value='https:&#47;&#47;public.tableau.com&#47;static&#47;images&#47;Pr&#47;ProjetoTitanicTableauDashboard&#47;Dashboard&#47;1.png' /> <param name='animate_transition' value='yes' /><param name='display_static_image' value='yes' /><param name='display_spinner' value='yes' /><param name='display_overlay' value='yes' /><param name='display_count' value='yes' /><param name='language' value='pt-BR' /></object></div>                <script type='text/javascript'>                    var divElement = document.getElementById('viz1722539926954');                    var vizElement = divElement.getElementsByTagName('object')[0];                    if ( divElement.offsetWidth > 800 ) { vizElement.style.width='1024px';vizElement.style.height='795px';} else if ( divElement.offsetWidth > 500 ) { vizElement.style.width='1024px';vizElement.style.height='795px';} else { vizElement.style.width='100%';vizElement.style.height='1477px';}                     var scriptElement = document.createElement('script');                    scriptElement.src = 'https://public.tableau.com/javascripts/api/viz_v1.js';                    vizElement.parentNode.insertBefore(scriptElement, vizElement);                </script>\n"
            ]
          },
          "metadata": {},
          "execution_count": 2
        }
      ]
    },
    {
      "cell_type": "markdown",
      "source": [
        "# POWER BI DASHBOARD"
      ],
      "metadata": {
        "id": "jd4px5YVWZba"
      }
    },
    {
      "cell_type": "code",
      "source": [
        "from IPython.display import HTML\n",
        "\n",
        "HTML(\"\"\"\n",
        "<div style=\"text-align: center;\">\n",
        "    <img src=\"https://github.com/andriel300/Titanic-Projeto-Analista-de-dados/blob/main/dashboardpowerbi.png?raw=true\"\n",
        "    style=\"max-width: 100%; height: auto;\" alt=\"Power BI Dashboard\">\n",
        "</div>\n",
        "\"\"\")"
      ],
      "metadata": {
        "id": "GcjoSehqexsS",
        "colab": {
          "base_uri": "https://localhost:8080/",
          "height": 751
        },
        "outputId": "b1a0a924-040a-44f6-b251-7734afe1e9a8"
      },
      "execution_count": null,
      "outputs": [
        {
          "output_type": "execute_result",
          "data": {
            "text/plain": [
              "<IPython.core.display.HTML object>"
            ],
            "text/html": [
              "\n",
              "<div style=\"text-align: center;\">\n",
              "    <img src=\"https://github.com/andriel300/Titanic-Projeto-Analista-de-dados/blob/main/dashboardpowerbi.png?raw=true\" \n",
              "    style=\"max-width: 100%; height: auto;\" alt=\"Power BI Dashboard\">\n",
              "</div>\n"
            ]
          },
          "metadata": {},
          "execution_count": 12
        }
      ]
    },
    {
      "cell_type": "markdown",
      "source": [
        "[Link Tableau](https://public.tableau.com/views/ProjetoTitanicTableauDashboard/Dashboard?:language=pt-BR&:sid=&:redirect=auth&:display_count=n&:origin=viz_share_link)\n",
        "\n",
        "[Link do Dashboard para baixar PBI](https://github.com/andriel300/Titanic-Projeto-Analista-de-dados/blob/main/projeto-titanic-dashboard.pbix) : não tenho power bi pro hehe\n",
        "\n",
        "**OBJETIVO**:  Ver se a taxa de sobrevivencia tem a ver com a classe de passageiros, Avalie também a idade dos passageiros em cada classe para identificar as categorias etárias.\n",
        "\n",
        "### **Avaliação Final do Projeto de Análise de Dados: Titanic**\n",
        "\n",
        "Com base nos gráficos e análises realizadas sobre a taxa de sobrevivência dos passageiros do Titanic, podemos tirar as seguintes conclusões:\n",
        "\n",
        "#### **Conclusões**\n",
        "\n",
        "A análise detalhada dos dados dos passageiros do Titanic revela padrões significativos que podem ser úteis para a construção e design de novos navios, especialmente no que diz respeito à segurança dos passageiros.\n",
        "\n",
        "1. **Influência da Classe na Sobrevivência:**\n",
        "   - Passageiros da Primeira Classe tinham uma taxa de sobrevivência significativamente maior em comparação com as outras classes.\n",
        "   - As chances de sobrevivência na Primeira Classe são aproximadamente três vezes maiores do que na Terceira Classe.\n",
        "   - Isso pode ser atribuído a fatores como melhor acesso a botes salva-vidas e localização dos camarotes.\n",
        "\n",
        "2. **Influência da Idade na Sobrevivência:**\n",
        "   - Recém-nascidos e crianças têm taxas de sobrevivência mais altas nas Primeira e Segunda Classes, mas não na Terceira Classe.\n",
        "   - Adolescentes e adultos da Primeira Classe também apresentam uma alta taxa de sobrevivência, o que não se reflete nas outras classes.\n",
        "\n",
        "#### Recomendações\n",
        "\n",
        "1. **Melhoria no Design de Segurança do Navio:**\n",
        "   - Implementar mais recursos de segurança e acesso facilitado a equipamentos de emergência para todas as classes, especialmente as mais baixas.\n",
        "   - Garantir que todas as classes tenham igual acesso a botes salva-vidas e rotas de evacuação bem planejadas.\n",
        "\n",
        "2. **Educação e Treinamento:**\n",
        "   - Fornecer treinamento regular sobre procedimentos de emergência para todos os passageiros e tripulantes, independente da classe.\n",
        "   - Desenvolver materiais educacionais e simulações de evacuação para garantir que todos saibam como agir em uma situação de emergência.\n",
        "\n",
        "3. **Infraestrutura e Acomodações:**\n",
        "   - Considerar a realocação de cabines para que todas as classes fiquem mais próximas das saídas de emergência.\n",
        "   - Melhorar a infraestrutura de segurança nos decks inferiores, onde geralmente estão localizadas as cabines da Terceira Classe.\n",
        "\n",
        "\n",
        "Os insights críticos podem influenciar diretamente as decisões estratégicas de segurança para a construção de novos navios. A análise foi baseada em dados históricos precisos e utilizou ferramentas avançadas de visualização de dados para identificar padrões e tendências.\n"
      ],
      "metadata": {
        "id": "ZbyPQWDN97Tw"
      }
    }
  ]
}