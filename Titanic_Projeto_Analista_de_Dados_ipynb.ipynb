{
  "nbformat": 4,
  "nbformat_minor": 0,
  "metadata": {
    "colab": {
      "provenance": [],
      "include_colab_link": true
    },
    "kernelspec": {
      "name": "python3",
      "display_name": "Python 3"
    },
    "language_info": {
      "name": "python"
    }
  },
  "cells": [
    {
      "cell_type": "markdown",
      "metadata": {
        "id": "view-in-github",
        "colab_type": "text"
      },
      "source": [
        "<a href=\"https://colab.research.google.com/github/andriel300/Titanic-Projeto-Analista-de-dados/blob/main/Titanic_Projeto_Analista_de_Dados_ipynb.ipynb\" target=\"_parent\"><img src=\"https://colab.research.google.com/assets/colab-badge.svg\" alt=\"Open In Colab\"/></a>"
      ]
    },
    {
      "cell_type": "code",
      "source": [
        "#@title Project\n",
        "import requests\n",
        "from IPython.display import Image, display\n",
        "from IPython.display import HTML\n",
        "\n",
        "# Direct image URL\n",
        "image_url = \"https://drive.google.com/uc?export=view&id=15mSHtYLHjSuCSPd2hAn7_wMFNhyfGHb3\"\n",
        "\n",
        "# Download the image\n",
        "response = requests.get(image_url)\n",
        "with open('image.jpg', 'wb') as file:\n",
        "    file.write(response.content)\n",
        "\n",
        "import base64\n",
        "\n",
        "# Convert the image to a base64 string\n",
        "with open(\"image.jpg\", \"rb\") as image_file:\n",
        "    encoded_string = base64.b64encode(image_file.read()).decode()\n",
        "\n",
        "# Create the HTML code with the base64 image\n",
        "html_code = f\"\"\"\n",
        "<!DOCTYPE html>\n",
        "<html lang=\"en\">\n",
        "<head>\n",
        "    <meta charset=\"UTF-8\">\n",
        "    <meta name=\"viewport\" content=\"width=device-width, initial-scale=1.0\">\n",
        "    <title>Portfolio Header</title>\n",
        "    <!-- Include Font Awesome -->\n",
        "    <link rel=\"stylesheet\" href=\"https://cdnjs.cloudflare.com/ajax/libs/font-awesome/6.0.0-beta3/css/all.min.css\">\n",
        "    <style>\n",
        "        body {{\n",
        "            font-family: Arial, sans-serif;\n",
        "            margin: 0;\n",
        "            padding: 0;\n",
        "        }}\n",
        "        .header {{\n",
        "            display: flex;\n",
        "            align-items: flex-start; /* Align items to the top */\n",
        "            /*align-items: center;*/\n",
        "            padding: 20px;\n",
        "            background-color: #f4f4f4;\n",
        "            border-bottom: 2px solid #ccc;\n",
        "        }}\n",
        "        .header img {{\n",
        "            border-radius: 50%;\n",
        "            width: 100px;\n",
        "            height: 100px;\n",
        "            object-fit: cover;\n",
        "            margin-right: 20px;\n",
        "            box-shadow: 0 0 20px #86e3dd; /* Glowing effect */\n",
        "            vertical-align: top;\n",
        "        }}\n",
        "        .header .text-container {{\n",
        "            display: flex;\n",
        "            flex-direction: column;\n",
        "        }}\n",
        "        .header h1 {{\n",
        "            margin: 0;\n",
        "            font-size: 2em;\n",
        "        }}\n",
        "        .header p {{\n",
        "            margin: 5px 0 0 0;\n",
        "            font-size: 1em;\n",
        "            color: #666;\n",
        "        }}\n",
        "        .header .social-icons {{\n",
        "            margin-top: 10px;\n",
        "        }}\n",
        "        .header .social-icons a {{\n",
        "            margin-right: 10px;\n",
        "            color: #666;\n",
        "            text-decoration: none;\n",
        "            font-size: 1.5em;\n",
        "        }}\n",
        "        .header .social-icons a:hover {{\n",
        "            color: #000;\n",
        "        }}\n",
        "    </style>\n",
        "</head>\n",
        "<body>\n",
        "    <header class=\"header\">\n",
        "        <img src=\"data:image/jpeg;base64,{encoded_string}\" alt=\"Profile Picture\">\n",
        "        <div class=\"text-container\">\n",
        "\n",
        "\n",
        "            <h1>Projeto Analista de dados: Titanic</h1>\n",
        "            <p>Nivel: iniciante</p>\n",
        "            <p>#soft_skills #sql #python #tableau #power_bi</p>\n",
        "            &nbsp;\n",
        "            <p>Andriel José</p>\n",
        "\n",
        "            <div class=\"social-icons\">\n",
        "\n",
        "\n",
        "\n",
        "                <a href=\"https://www.linkedin.com/in/andrieljose/\" target=\"_blank\"><i class=\"fab fa-linkedin\"></i></a>\n",
        "                <a href=\"mailto:andrieldata@proton.me\"><i class=\"fas fa-envelope\"></i>\n",
        "\n",
        "\n",
        "\n",
        "            </div>\n",
        "        </div>\n",
        "    </header>\n",
        "</body>\n",
        "</html>\n",
        "\"\"\"\n",
        "\n",
        "# Display the HTML code in the Jupyter/Colab notebook\n",
        "display(HTML(html_code))"
      ],
      "metadata": {
        "colab": {
          "base_uri": "https://localhost:8080/",
          "height": 197
        },
        "cellView": "form",
        "id": "LjS6tVB7uVab",
        "outputId": "c6534d69-551f-483a-f005-5ff1172b3fcf"
      },
      "execution_count": 2,
      "outputs": [
        {
          "output_type": "display_data",
          "data": {
            "text/plain": [
              "<IPython.core.display.HTML object>"
            ],
            "text/html": [
              "\n",
              "<!DOCTYPE html>\n",
              "<html lang=\"en\">\n",
              "<head>\n",
              "    <meta charset=\"UTF-8\">\n",
              "    <meta name=\"viewport\" content=\"width=device-width, initial-scale=1.0\">\n",
              "    <title>Portfolio Header</title>\n",
              "    <!-- Include Font Awesome -->\n",
              "    <link rel=\"stylesheet\" href=\"https://cdnjs.cloudflare.com/ajax/libs/font-awesome/6.0.0-beta3/css/all.min.css\">\n",
              "    <style>\n",
              "        body {\n",
              "            font-family: Arial, sans-serif;\n",
              "            margin: 0;\n",
              "            padding: 0;\n",
              "        }\n",
              "        .header {\n",
              "            display: flex;\n",
              "            align-items: flex-start; /* Align items to the top */\n",
              "            /*align-items: center;*/\n",
              "            padding: 20px;\n",
              "            background-color: #f4f4f4;\n",
              "            border-bottom: 2px solid #ccc;\n",
              "        }\n",
              "        .header img {\n",
              "            border-radius: 50%;\n",
              "            width: 100px;\n",
              "            height: 100px;\n",
              "            object-fit: cover;\n",
              "            margin-right: 20px;\n",
              "            box-shadow: 0 0 20px #86e3dd; /* Glowing effect */\n",
              "            vertical-align: top;\n",
              "        }\n",
              "        .header .text-container {\n",
              "            display: flex;\n",
              "            flex-direction: column;\n",
              "        }\n",
              "        .header h1 {\n",
              "            margin: 0;\n",
              "            font-size: 2em;\n",
              "        }\n",
              "        .header p {\n",
              "            margin: 5px 0 0 0;\n",
              "            font-size: 1em;\n",
              "            color: #666;\n",
              "        }\n",
              "        .header .social-icons {\n",
              "            margin-top: 10px;\n",
              "        }\n",
              "        .header .social-icons a {\n",
              "            margin-right: 10px;\n",
              "            color: #666;\n",
              "            text-decoration: none;\n",
              "            font-size: 1.5em;\n",
              "        }\n",
              "        .header .social-icons a:hover {\n",
              "            color: #000;\n",
              "        }\n",
              "    </style>\n",
              "</head>\n",
              "<body>\n",
              "    <header class=\"header\">\n",
              "        <img src=\"data:image/jpeg;base64,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\" alt=\"Profile Picture\">\n",
              "        <div class=\"text-container\">\n",
              "\n",
              "\n",
              "            <h1>Projeto Analista de dados: Titanic</h1>\n",
              "            <p>Nivel: iniciante</p>\n",
              "            <p>#soft_skills #sql #python #tableau #power_bi</p>\n",
              "            &nbsp;\n",
              "            <p>Andriel José</p>\n",
              "\n",
              "            <div class=\"social-icons\">\n",
              "\n",
              "\n",
              "\n",
              "                <a href=\"https://www.linkedin.com/in/andrieljose/\" target=\"_blank\"><i class=\"fab fa-linkedin\"></i></a>\n",
              "                <a href=\"mailto:andrieldata@proton.me\"><i class=\"fas fa-envelope\"></i>\n",
              "\n",
              "\n",
              "\n",
              "            </div>\n",
              "        </div>\n",
              "    </header>\n",
              "</body>\n",
              "</html>\n"
            ]
          },
          "metadata": {}
        }
      ]
    },
    {
      "cell_type": "markdown",
      "source": [
        "# Soft skills"
      ],
      "metadata": {
        "id": "xy4inZ8V4y7V"
      }
    },
    {
      "cell_type": "markdown",
      "source": [
        "## Fase 1. Reunião inicial com a administração\n",
        "\n",
        "Vamos fingir que você trabalha em uma empresa que constrói navios e que está investigando o desastre do Titanic para melhorar o projeto da embarcação. Seu objetivo é garantir as condições de evacuação necessárias e a igualdade de acesso às saídas de emergência e aos equipamentos para todos os passageiros, independentemente da classe e da idade, em um cenário de emergência. A equipe tem uma suspeita que gostaria de confirmar olhando para os seus **dados**. Eles acreditam que a taxa de sobrevivência dos passageiros da primeira classe do Titanic era maior. Aqui está o que o gerente lhe disse.\n",
        "\n",
        "**M**: Oi, Alex. Como você está hoje?\n",
        "\n",
        "**R**: Olá. Estou bem, e você?\n",
        "\n",
        "…um pouco de conversa.\n",
        "\n",
        "**M**: Tragédia do Titanic.\n",
        "\n",
        "**M**: Então, tente descobrir se houve algum erro ao construir as divisões de cabines do navio. Nós o ajudaremos a entender se a taxa de sobrevivência estava relacionada à classe dos passageiros. Você entendeu corretamente?\n",
        "\n",
        "**R**: Se entendi corretamente, seu objetivo é ver qual classe de passageiros teve mais sobreviventes? E você gostaria de ver se há alguma diferença entre as classes de passageiros em termos de taxa de sobrevivência?\n",
        "\n",
        "**M**: Isso mesmo. seria bom se mostrássemos um gráfico de barras com todas as classes no eixo X e o número de pessoas que sobreviveram no eixo Y ? Além disso, adicionaremos outro gráfico de barras, no qual mostraremos a taxa de sobrevivência em % para cada uma das classes de passageiros.\n",
        "\n",
        "**R**: Você gostaria que adicionássemos algum filtro aos dados? Por exemplo, filtrar os dados por idade poderia ser útil para você para perceber se a diferença entre as classes aumenta ou diminui com a idade. Isso faz sentido para você?\n",
        "\n",
        "**M**: Claro, e caso você tenha tempo para mais um, forneça um gráfico para diferentes categorias de idade para que eu possa ver convenientemente a diferença. Por exemplo, classificações de crianças, adultos e idosos. Gostaríamos de ver isso para ter uma visão mais ampla das taxas de sobrevivência, já que a idade é certamente um fator.\n",
        "\n",
        "**R**: Ok, como definiríamos essas categorias? Quais idades são crianças, quais são adultos e quais são idosos?\n",
        "\n",
        "**M**: Por favor, descubra isso para nos dar um retorno sobre isso na próxima reunião.\n",
        "\n",
        "**R**: Ok, vamos escrever isso para o nosso documento."
      ],
      "metadata": {
        "id": "0DE8ZmwMpaKY"
      }
    },
    {
      "cell_type": "markdown",
      "source": [
        "##Fase 2. Documentar uma tarefa durante uma reunião\n",
        "\n",
        "###Template de documentação de reunião\n",
        "\n",
        "**Objetivo**: Ver se a taxa de sobrevivencia tem a ver com a classe de passageiros, Avalie também a idade dos passageiros em cada classe para identificar as categorias etárias.\n",
        "\n",
        "**Visualizações**\n",
        "(barra, pizza, coluna etc.):\n",
        "\n",
        "<figure>\n",
        "  <left>\n",
        "    <img src='https://drive.google.com/uc?export=view&id=15fIbp6qRXgfL6vHfpkPkIG4zCv15qxiD' width='400'/>\n",
        "    <figcaption>Visuais mais frequentes</figcaption>\n",
        "  </left>\n",
        "</figure>\n",
        "\n",
        "- Gráfico de Barra 1\n",
        "    - Colunas numéricas e agregações (soma, porcentagem, etc.):\n",
        "    Sobreviveu - soma\n",
        "    - Coluna categórica: Pclass\n",
        "    - Filtros ativos: Idade\n",
        "\n",
        "- Gráfico X 2\n",
        "    - Colunas numéricas e agregações (soma, porcentagem, etc.):\n",
        "    Sobreviveu - porcentagem\n",
        "    - Coluna categórica: Pclass\n",
        "    - Filtros ativos: Idade\n",
        "\n",
        "- Gráfico X 3\n",
        "    - Colunas numéricas e agregações (soma, porcentagem, etc.):\n",
        "    Sobreviveu - porcentagem\n",
        "    - Coluna categórica 1: Pclass\n",
        "    - Coluna categórica 2: Idade (Crianças, Adultos, Idosos,)\n",
        "    - Filtros ativos:"
      ],
      "metadata": {
        "id": "NPfw13UovDjJ"
      }
    },
    {
      "cell_type": "markdown",
      "source": [
        "#Hard skills"
      ],
      "metadata": {
        "id": "Cax7wbBR4_RB"
      }
    },
    {
      "cell_type": "code",
      "source": [
        "#@title Fase 1. Pedir a um engenheiro de dados que prepare os dados para você\n",
        "\n",
        "import pandas as pd\n",
        "import gdown\n",
        "\n",
        "# File ID from the Google Drive link\n",
        "file_id = '15cFsnPnHc7KlzV0C9QQ5wG5v8PWqJ65C'\n",
        "\n",
        "download_url = f'https://drive.google.com/uc?id={file_id}'\n",
        "\n",
        "# Download the file\n",
        "output_file = 'downloaded_file.csv'\n",
        "gdown.download(download_url, output_file, quiet=False)\n",
        "\n",
        "# Load the CSV file into a pandas DataFrame\n",
        "df = pd.read_csv(output_file)\n",
        "\n",
        "# Assuming ipython-sql is installed\n",
        "%load_ext sql\n",
        "\n",
        "# Use a file-based SQLite database\n",
        "database_filename = 'my_database.db'\n",
        "df.to_sql('titanic_data', f'sqlite:///{database_filename}', if_exists='replace', index=False)\n",
        "\n",
        "# Now connect ipython-sql to the same file-based database\n",
        "%sql sqlite:///my_database.db"
      ],
      "metadata": {
        "id": "eFs78mYWliME",
        "cellView": "form",
        "colab": {
          "base_uri": "https://localhost:8080/"
        },
        "outputId": "08227ff9-60bd-427d-8622-853f92a92849"
      },
      "execution_count": 3,
      "outputs": [
        {
          "output_type": "stream",
          "name": "stderr",
          "text": [
            "Downloading...\n",
            "From: https://drive.google.com/uc?id=15cFsnPnHc7KlzV0C9QQ5wG5v8PWqJ65C\n",
            "To: /content/downloaded_file.csv\n",
            "100%|██████████| 61.2k/61.2k [00:00<00:00, 33.8MB/s]\n"
          ]
        }
      ]
    },
    {
      "cell_type": "code",
      "source": [
        "#@title Fase 2. SQL — Consulte os dados\n",
        "# Consultar os dados para ver se funcionam\n",
        "# %sql SELECT * FROM titanic_data LIMIT 10;\n",
        "projeto_dados = %sql SELECT Survived, Pclass, Age FROM titanic_data"
      ],
      "metadata": {
        "id": "3-CzEfzM5LcX",
        "collapsed": true,
        "colab": {
          "base_uri": "https://localhost:8080/"
        },
        "outputId": "b778732e-a620-4c2d-9cc4-4f1927b04acc"
      },
      "execution_count": 4,
      "outputs": [
        {
          "output_type": "stream",
          "name": "stdout",
          "text": [
            " * sqlite:///my_database.db\n",
            "Done.\n"
          ]
        }
      ]
    },
    {
      "cell_type": "markdown",
      "source": [
        "Descrição dos Dados\n",
        "\n",
        "<table>\n",
        "<tbody>\n",
        "<tr><th><b>Variable</b></th><th><b>Definition</b></th><th><b>Key</b></th></tr>\n",
        "<tr>\n",
        "<td>survival</td>\n",
        "<td>Survival</td>\n",
        "<td>0 = No, 1 = Yes</td>\n",
        "</tr>\n",
        "<tr>\n",
        "<td>pclass</td>\n",
        "<td>Ticket class</td>\n",
        "<td>1 = 1st, 2 = 2nd, 3 = 3rd</td>\n",
        "</tr>\n",
        "<tr>\n",
        "<td>sex</td>\n",
        "<td>Sex</td>\n",
        "<td></td>\n",
        "</tr>\n",
        "<tr>\n",
        "<td>Age</td>\n",
        "<td>Age in years</td>\n",
        "<td></td>\n",
        "</tr>\n",
        "<tr>\n",
        "<td>sibsp</td>\n",
        "<td># of siblings / spouses aboard the Titanic</td>\n",
        "<td></td>\n",
        "</tr>\n",
        "<tr>\n",
        "<td>parch</td>\n",
        "<td># of parents / children aboard the Titanic</td>\n",
        "<td></td>\n",
        "</tr>\n",
        "<tr>\n",
        "<td>ticket</td>\n",
        "<td>Ticket number</td>\n",
        "<td></td>\n",
        "</tr>\n",
        "<tr>\n",
        "<td>fare</td>\n",
        "<td>Passenger fare</td>\n",
        "<td></td>\n",
        "</tr>\n",
        "<tr>\n",
        "<td>cabin</td>\n",
        "<td>Cabin number</td>\n",
        "<td></td>\n",
        "</tr>\n",
        "<tr>\n",
        "<td>embarked</td>\n",
        "<td>Port of Embarkation</td>\n",
        "<td>C = Cherbourg, Q = Queenstown, S = Southampton</td>\n",
        "</tr>\n",
        "</tbody>\n",
        "</table>"
      ],
      "metadata": {
        "id": "XLH1nNJZkTYY"
      }
    },
    {
      "cell_type": "code",
      "source": [
        "#@title Fase 3. Python\n",
        "# Obter os dados para o ambiente Python\n",
        "import pandas as pd\n",
        "\n",
        "# Obter as primeiras 10 linhas do data frame\n",
        "df = pd.DataFrame(projeto_dados)\n",
        "print(df.head(10))\n",
        "\n",
        "# Obter informações básicas do data frame\n",
        "print(\"\\nInformações básicas:\")\n",
        "print(df.info())\n",
        "\n",
        "# Obter estatísticas descritivas do data frame\n",
        "print(\"\\nEstatísticas descritivas:\")\n",
        "print(df.describe())\n",
        "\n",
        "# Obter contagem de valores únicos em cada coluna\n",
        "print(\"\\nContagem de valores únicos em cada coluna:\")\n",
        "print(df.nunique())\n",
        "\n",
        "# Obter contagem de valores nulos em cada coluna\n",
        "print(\"\\nContagem de valores nulos em cada coluna:\")\n",
        "print(df.isnull().sum())"
      ],
      "metadata": {
        "id": "YYxg_USbk-Sl",
        "colab": {
          "base_uri": "https://localhost:8080/"
        },
        "outputId": "7dda2107-9ef6-4304-ca0c-7a8c3eb4c289"
      },
      "execution_count": 14,
      "outputs": [
        {
          "output_type": "stream",
          "name": "stdout",
          "text": [
            "   Survived  Pclass   Age\n",
            "0         0       3  22.0\n",
            "1         1       1  38.0\n",
            "2         1       3  26.0\n",
            "3         1       1  35.0\n",
            "4         0       3  35.0\n",
            "5         0       3   NaN\n",
            "6         0       1  54.0\n",
            "7         0       3   2.0\n",
            "8         1       3  27.0\n",
            "9         1       2  14.0\n",
            "\n",
            "Informações básicas:\n",
            "<class 'pandas.core.frame.DataFrame'>\n",
            "RangeIndex: 891 entries, 0 to 890\n",
            "Data columns (total 3 columns):\n",
            " #   Column    Non-Null Count  Dtype  \n",
            "---  ------    --------------  -----  \n",
            " 0   Survived  891 non-null    int64  \n",
            " 1   Pclass    891 non-null    int64  \n",
            " 2   Age       714 non-null    float64\n",
            "dtypes: float64(1), int64(2)\n",
            "memory usage: 21.0 KB\n",
            "None\n",
            "\n",
            "Estatísticas descritivas:\n",
            "         Survived      Pclass         Age\n",
            "count  891.000000  891.000000  714.000000\n",
            "mean     0.383838    2.308642   29.699118\n",
            "std      0.486592    0.836071   14.526497\n",
            "min      0.000000    1.000000    0.420000\n",
            "25%      0.000000    2.000000   20.125000\n",
            "50%      0.000000    3.000000   28.000000\n",
            "75%      1.000000    3.000000   38.000000\n",
            "max      1.000000    3.000000   80.000000\n",
            "\n",
            "Contagem de valores únicos em cada coluna:\n",
            "Survived     2\n",
            "Pclass       3\n",
            "Age         88\n",
            "dtype: int64\n",
            "\n",
            "Contagem de valores nulos em cada coluna:\n",
            "Survived      0\n",
            "Pclass        0\n",
            "Age         177\n",
            "dtype: int64\n"
          ]
        }
      ]
    },
    {
      "cell_type": "markdown",
      "source": [
        "## Data Cleaning"
      ],
      "metadata": {
        "id": "vTrPNAeDHpP1"
      }
    },
    {
      "cell_type": "code",
      "source": [
        "# Calcular a mediana da coluna \"Age\"\n",
        "age_mean = df['Age'].mean()\n",
        "\n",
        "# Preencher os valores nulos com a mediana\n",
        "df['Age'].fillna(age_mean, inplace=True)\n",
        "\n",
        "# Calcular a mediana da coluna \"Age\"\n",
        "age_median = df['Age'].median()\n",
        "\n",
        "# Preencher os valores nulos com a mediana\n",
        "df['Age'].fillna(age_median, inplace=True)\n",
        "\n",
        "# Verificar se existe valores nulos na coluna Age\n",
        "print(\"\\n Numeros de valores nulos na coluna Age:\")\n",
        "print(df['Age'].isnull().sum())"
      ],
      "metadata": {
        "colab": {
          "base_uri": "https://localhost:8080/"
        },
        "id": "dc5VwWOuEma9",
        "outputId": "e44baffa-234c-4591-d6eb-66cad2d667ef"
      },
      "execution_count": 17,
      "outputs": [
        {
          "output_type": "stream",
          "name": "stdout",
          "text": [
            "\n",
            " Numeros de valores nulos na coluna Age:\n",
            "0\n"
          ]
        }
      ]
    },
    {
      "cell_type": "code",
      "source": [
        "# Redonda as tabelas da coluna \"Age\"\n",
        "df['Age'] = df['Age'].round()\n",
        "\n",
        "# # Obter estatísticas descritivas para obversar se está limpo (Data Cleaning)\n",
        "# print(\"\\nEstatísticas descritivas:\")\n",
        "# print(df.describe())\n",
        "\n",
        "# Função para categorizar idade\n",
        "def categorize_age(age):\n",
        "    if age < 0:\n",
        "        return 'Invalid age'\n",
        "    elif age <= 1:\n",
        "        return 'Recém-nascido'\n",
        "    elif age <= 2:\n",
        "        return 'Bebê'\n",
        "    elif age <= 12:\n",
        "        return 'Criança'\n",
        "    elif age <= 18:\n",
        "        return 'Adolescente'\n",
        "    elif age <= 60:\n",
        "        return 'Adulto'\n",
        "    else:\n",
        "        return 'Idoso'\n",
        "\n",
        "# Aplicar a função para criar a nova coluna 'Age_Category'\n",
        "df['Age_Category'] = df['Age'].apply(categorize_age)\n",
        "\n",
        "# Aplicar o display da categoria atualizada\n",
        "print(df.head(10))\n",
        "\n",
        "# Obter contagem de valores unicos na coluna Age_Category\n",
        "print(\"\\nContagem de valores únicos na coluna Age_Category:\")\n",
        "print(df['Age_Category'].value_counts())"
      ],
      "metadata": {
        "colab": {
          "base_uri": "https://localhost:8080/"
        },
        "id": "raOT1Oj5G1yG",
        "outputId": "e4470d93-e881-4785-d1c0-e5fc4af63486"
      },
      "execution_count": 26,
      "outputs": [
        {
          "output_type": "stream",
          "name": "stdout",
          "text": [
            "   Survived  Pclass   Age Age_Category\n",
            "0         0       3  22.0       Adulto\n",
            "1         1       1  38.0       Adulto\n",
            "2         1       3  26.0       Adulto\n",
            "3         1       1  35.0       Adulto\n",
            "4         0       3  35.0       Adulto\n",
            "5         0       3  30.0       Adulto\n",
            "6         0       1  54.0       Adulto\n",
            "7         0       3   2.0         Bebê\n",
            "8         1       3  27.0       Adulto\n",
            "9         1       2  14.0  Adolescente\n",
            "\n",
            "Contagem de valores únicos na coluna Age_Category:\n",
            "Age_Category\n",
            "Adulto           730\n",
            "Adolescente       70\n",
            "Criança           45\n",
            "Idoso             22\n",
            "Recém-nascido     14\n",
            "Bebê              10\n",
            "Name: count, dtype: int64\n"
          ]
        }
      ]
    },
    {
      "cell_type": "markdown",
      "source": [
        "## Data Cleaning Realizado com sucesso! agora vamos extrair os dados coletados em xlsl para criar dashboard nas plataforma!"
      ],
      "metadata": {
        "id": "WuOiJ7wGSgzF"
      }
    },
    {
      "cell_type": "code",
      "source": [
        "# Exportar o dataframe para o Excel\n",
        "df.to_excel('titanic_data.xlsx', index=False)\n",
        "\n",
        "print(\"\\nDados exportados para 'titanic_data.xlsx'\")"
      ],
      "metadata": {
        "colab": {
          "base_uri": "https://localhost:8080/"
        },
        "id": "B3oFbtzhS0Ec",
        "outputId": "09499358-f665-443b-d83e-a23c080f8f78"
      },
      "execution_count": 27,
      "outputs": [
        {
          "output_type": "stream",
          "name": "stdout",
          "text": [
            "\n",
            "Dados exportados para 'titanic_data.xlsx'\n"
          ]
        }
      ]
    },
    {
      "cell_type": "code",
      "source": [
        "#@title Tableau Dashboard\n",
        "from IPython.display import HTML\n",
        "\n",
        "HTML(\"\"\"\n",
        "\"\"\")\n"
      ],
      "metadata": {
        "id": "ENH3nc7y6efx",
        "colab": {
          "base_uri": "https://localhost:8080/",
          "height": 17
        },
        "outputId": "0696c58a-823e-4820-cf81-4530ac43e4bd"
      },
      "execution_count": 12,
      "outputs": [
        {
          "output_type": "execute_result",
          "data": {
            "text/plain": [
              "<IPython.core.display.HTML object>"
            ],
            "text/html": [
              "\n"
            ]
          },
          "metadata": {},
          "execution_count": 12
        }
      ]
    },
    {
      "cell_type": "code",
      "source": [
        "#@title Power BI Dashboard\n",
        "\n",
        "from IPython.display import HTML\n",
        "\n",
        "HTML(\"\"\"\n",
        "<div style=\"position: relative; width: 100%; height: 0; padding-bottom: 40.25%;\">\n",
        "    <iframe src=\"\"\n",
        "    style=\"position: absolute; top: 0; left: 0; width: 100%; height: 100%;\"\n",
        "    frameborder=\"0\" allow=\"accelerometer; autoplay; clipboard-write; encrypted-media; gyroscope; picture-in-picture\"\n",
        "    allowfullscreen></iframe>\n",
        "</div>\n",
        "\"\"\")\n"
      ],
      "metadata": {
        "id": "GcjoSehqexsS",
        "colab": {
          "base_uri": "https://localhost:8080/",
          "height": 310
        },
        "outputId": "e17be8fc-d8ff-4641-998e-4007884a3c8f"
      },
      "execution_count": 7,
      "outputs": [
        {
          "output_type": "execute_result",
          "data": {
            "text/plain": [
              "<IPython.core.display.HTML object>"
            ],
            "text/html": [
              "\n",
              "<div style=\"position: relative; width: 100%; height: 0; padding-bottom: 40.25%;\">\n",
              "    <iframe src=\"\"\n",
              "    style=\"position: absolute; top: 0; left: 0; width: 100%; height: 100%;\"\n",
              "    frameborder=\"0\" allow=\"accelerometer; autoplay; clipboard-write; encrypted-media; gyroscope; picture-in-picture\"\n",
              "    allowfullscreen></iframe>\n",
              "</div>\n"
            ]
          },
          "metadata": {},
          "execution_count": 7
        }
      ]
    },
    {
      "cell_type": "markdown",
      "source": [
        "[Link Tableau]()\n",
        "\n",
        "[Link PBI]()\n",
        "\n",
        "**Goal**:\n",
        "\n",
        "**Assessment**:"
      ],
      "metadata": {
        "id": "ZbyPQWDN97Tw"
      }
    }
  ]
}